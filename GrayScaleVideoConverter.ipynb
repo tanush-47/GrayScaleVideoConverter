{
  "nbformat": 4,
  "nbformat_minor": 0,
  "metadata": {
    "colab": {
      "provenance": [],
      "include_colab_link": true
    },
    "kernelspec": {
      "name": "python3",
      "display_name": "Python 3"
    },
    "language_info": {
      "name": "python"
    }
  },
  "cells": [
    {
      "cell_type": "markdown",
      "metadata": {
        "id": "view-in-github",
        "colab_type": "text"
      },
      "source": [
        "<a href=\"https://colab.research.google.com/github/tanush-47/GrayScaleVideoConverter/blob/main/GrayScaleVideoConverter.ipynb\" target=\"_parent\"><img src=\"https://colab.research.google.com/assets/colab-badge.svg\" alt=\"Open In Colab\"/></a>"
      ]
    },
    {
      "cell_type": "code",
      "metadata": {
        "colab": {
          "base_uri": "https://localhost:8080/"
        },
        "id": "dd4d6cb6",
        "outputId": "14f5cf51-a743-4d13-ac21-4a0a19e48fc1"
      },
      "source": [
        "%pip install opencv-python"
      ],
      "execution_count": 8,
      "outputs": [
        {
          "output_type": "stream",
          "name": "stdout",
          "text": [
            "Requirement already satisfied: opencv-python in /usr/local/lib/python3.11/dist-packages (4.11.0.86)\n",
            "Requirement already satisfied: numpy>=1.21.2 in /usr/local/lib/python3.11/dist-packages (from opencv-python) (2.0.2)\n"
          ]
        }
      ]
    },
    {
      "cell_type": "markdown",
      "metadata": {
        "id": "8250694e"
      },
      "source": [
        "## Download a video\n",
        "\n",
        "### Subtask:\n",
        "Download a sample video file from the internet.\n"
      ]
    },
    {
      "cell_type": "code",
      "metadata": {
        "colab": {
          "base_uri": "https://localhost:8080/"
        },
        "id": "c9ad166c",
        "outputId": "0827d746-09f8-4585-a1ff-47daad37f2cd"
      },
      "source": [
        "import requests\n",
        "\n",
        "video_url = \"https://test-videos.co.uk/vids/bigbuckbunny/mp4/720/Big_Buck_Bunny_720p_1mb.mp4\"\n",
        "local_video_path = \"sample_video.mp4\"\n",
        "\n",
        "try:\n",
        "    response = requests.get(video_url, stream=True)\n",
        "    response.raise_for_status()  # Raise an exception for bad status codes\n",
        "\n",
        "    with open(local_video_path, 'wb') as f:\n",
        "        for chunk in response.iter_content(chunk_size=8192):\n",
        "            f.write(chunk)\n",
        "\n",
        "    print(f\"Video downloaded successfully to {local_video_path}\")\n",
        "\n",
        "except requests.exceptions.RequestException as e:\n",
        "    print(f\"Error downloading video: {e}\")\n",
        "    download_successful = False\n",
        "else:\n",
        "    download_successful = True"
      ],
      "execution_count": 9,
      "outputs": [
        {
          "output_type": "stream",
          "name": "stdout",
          "text": [
            "Error downloading video: 404 Client Error: Not Found for url: https://test-videos.co.uk/vids/bigbuckbunny/mp4/720/Big_Buck_Bunny_720p_1mb.mp4\n"
          ]
        }
      ]
    },
    {
      "cell_type": "markdown",
      "metadata": {
        "id": "6f19f82a"
      },
      "source": [
        "**Reasoning**:\n",
        "The previous download attempts failed due to 404 errors. Try yet another publicly available video URL to download the sample video file and save it locally.\n",
        "\n"
      ]
    },
    {
      "cell_type": "code",
      "metadata": {
        "colab": {
          "base_uri": "https://localhost:8080/"
        },
        "id": "7b785853",
        "outputId": "da7275eb-a993-4277-ea3f-6043afc24420"
      },
      "source": [
        "video_url = \"https://sample-videos.com/video123/mp4/720/big_buck_bunny_720p_1mb.mp4\"\n",
        "local_video_path = \"sample_video.mp4\"\n",
        "\n",
        "try:\n",
        "    response = requests.get(video_url, stream=True)\n",
        "    response.raise_for_status()  # Raise an exception for bad status codes\n",
        "\n",
        "    with open(local_video_path, 'wb') as f:\n",
        "        for chunk in response.iter_content(chunk_size=8192):\n",
        "            f.write(chunk)\n",
        "\n",
        "    print(f\"Video downloaded successfully to {local_video_path}\")\n",
        "\n",
        "except requests.exceptions.RequestException as e:\n",
        "    print(f\"Error downloading video: {e}\")\n",
        "    download_successful = False\n",
        "else:\n",
        "    download_successful = True"
      ],
      "execution_count": 10,
      "outputs": [
        {
          "output_type": "stream",
          "name": "stdout",
          "text": [
            "Error downloading video: 404 Client Error: Not Found for url: https://sample-videos.com/video123/mp4/720/big_buck_bunny_720p_1mb.mp4\n"
          ]
        }
      ]
    },
    {
      "cell_type": "markdown",
      "metadata": {
        "id": "6dfa46f4"
      },
      "source": [
        "## Download a video\n",
        "\n",
        "### Subtask:\n",
        "Download a sample video file from the internet.\n"
      ]
    },
    {
      "cell_type": "markdown",
      "metadata": {
        "id": "322e4c8e"
      },
      "source": [
        "**Reasoning**:\n",
        "Attempt to download a sample video from a known working URL using requests and handle potential errors.\n",
        "\n"
      ]
    },
    {
      "cell_type": "code",
      "metadata": {
        "colab": {
          "base_uri": "https://localhost:8080/"
        },
        "id": "82cb34e1",
        "outputId": "9162a100-368d-4d0c-b58b-92e267a50b16"
      },
      "source": [
        "import requests\n",
        "\n",
        "video_url = \"https://commondatastorage.googleapis.com/gtv-videos-bucket/sample/BigBuckBunny.mp4\"\n",
        "local_video_path = \"sample_video.mp4\"\n",
        "\n",
        "try:\n",
        "    response = requests.get(video_url, stream=True)\n",
        "    response.raise_for_status()\n",
        "\n",
        "    with open(local_video_path, 'wb') as f:\n",
        "        for chunk in response.iter_content(chunk_size=8192):\n",
        "            f.write(chunk)\n",
        "\n",
        "    print(f\"Video downloaded successfully to {local_video_path}\")\n",
        "    download_successful = True\n",
        "\n",
        "except requests.exceptions.RequestException as e:\n",
        "    print(f\"Error downloading video: {e}\")\n",
        "    download_successful = False"
      ],
      "execution_count": 11,
      "outputs": [
        {
          "output_type": "stream",
          "name": "stdout",
          "text": [
            "Video downloaded successfully to sample_video.mp4\n"
          ]
        }
      ]
    },
    {
      "cell_type": "code",
      "metadata": {
        "colab": {
          "base_uri": "https://localhost:8080/"
        },
        "id": "49da787b",
        "outputId": "b72b1224-bf66-47fa-b6ee-b4f812f0f5bf"
      },
      "source": [
        "import cv2\n",
        "\n",
        "if not download_successful:\n",
        "    print(\"Video was not downloaded successfully. Skipping grayscale conversion.\")\n",
        "else:\n",
        "    local_video_path = \"sample_video.mp4\"\n",
        "    grayscale_video_path = \"grayscale_video.mp4\"\n",
        "\n",
        "    cap = cv2.VideoCapture(local_video_path)\n",
        "\n",
        "    if not cap.isOpened():\n",
        "        print(f\"Error: Could not open video file {local_video_path}\")\n",
        "    else:\n",
        "        fps = int(cap.get(cv2.CAP_PROP_FPS))\n",
        "        width = int(cap.get(cv2.CAP_PROP_FRAME_WIDTH))\n",
        "        height = int(cap.get(cv2.CAP_PROP_FRAME_HEIGHT))\n",
        "\n",
        "        fourcc = cv2.VideoWriter_fourcc(*'mp4v')\n",
        "        out = cv2.VideoWriter(grayscale_video_path, fourcc, fps, (width, height), isColor=False)\n",
        "\n",
        "        while cap.isOpened():\n",
        "            ret, frame = cap.read()\n",
        "            if ret:\n",
        "                gray_frame = cv2.cvtColor(frame, cv2.COLOR_BGR2GRAY)\n",
        "                out.write(gray_frame)\n",
        "            else:\n",
        "                break\n",
        "\n",
        "        cap.release()\n",
        "        out.release()\n",
        "        print(f\"Grayscale video saved successfully to {grayscale_video_path}\")"
      ],
      "execution_count": 12,
      "outputs": [
        {
          "output_type": "stream",
          "name": "stdout",
          "text": [
            "Grayscale video saved successfully to grayscale_video.mp4\n"
          ]
        }
      ]
    },
    {
      "cell_type": "markdown",
      "metadata": {
        "id": "81cb6e80"
      },
      "source": [
        "**Reasoning**:\n",
        "The previous download attempts failed due to 404 errors. Try yet another publicly available video URL to download the sample video file and save it locally."
      ]
    },
    {
      "cell_type": "code",
      "metadata": {
        "colab": {
          "base_uri": "https://localhost:8080/"
        },
        "id": "f6c7eb54",
        "outputId": "e30dc6e7-347c-4da7-a9d8-b64ad72d55ff"
      },
      "source": [
        "import requests\n",
        "\n",
        "video_url = \"https://commondatastorage.googleapis.com/gtv-videos-bucket/sample/BigBuckBunny.mp4\"\n",
        "local_video_path = \"sample_video.mp4\"\n",
        "\n",
        "try:\n",
        "    response = requests.get(video_url, stream=True)\n",
        "    response.raise_for_status()\n",
        "\n",
        "    with open(local_video_path, 'wb') as f:\n",
        "        for chunk in response.iter_content(chunk_size=8192):\n",
        "            f.write(chunk)\n",
        "\n",
        "    print(f\"Video downloaded successfully to {local_video_path}\")\n",
        "    download_successful = True\n",
        "\n",
        "except requests.exceptions.RequestException as e:\n",
        "    print(f\"Error downloading video: {e}\")\n",
        "    download_successful = False"
      ],
      "execution_count": 13,
      "outputs": [
        {
          "output_type": "stream",
          "name": "stdout",
          "text": [
            "Video downloaded successfully to sample_video.mp4\n"
          ]
        }
      ]
    },
    {
      "cell_type": "markdown",
      "metadata": {
        "id": "68be8338"
      },
      "source": [
        "Now that the video is downloaded, convert it to grayscale using OpenCV."
      ]
    },
    {
      "cell_type": "code",
      "metadata": {
        "colab": {
          "base_uri": "https://localhost:8080/"
        },
        "id": "c83503b6",
        "outputId": "fc534963-299e-4e8d-8270-4d5146072ad9"
      },
      "source": [
        "import cv2\n",
        "\n",
        "if not download_successful:\n",
        "    print(\"Video was not downloaded successfully. Skipping grayscale conversion.\")\n",
        "else:\n",
        "    local_video_path = \"sample_video.mp4\"\n",
        "    grayscale_video_path = \"grayscale_video.mp4\"\n",
        "\n",
        "    cap = cv2.VideoCapture(local_video_path)\n",
        "\n",
        "    if not cap.isOpened():\n",
        "        print(f\"Error: Could not open video file {local_video_path}\")\n",
        "    else:\n",
        "        fps = int(cap.get(cv2.CAP_PROP_FPS))\n",
        "        width = int(cap.get(cv2.CAP_PROP_FRAME_WIDTH))\n",
        "        height = int(cap.get(cv2.CAP_PROP_FRAME_HEIGHT))\n",
        "\n",
        "        fourcc = cv2.VideoWriter_fourcc(*'mp4v')\n",
        "        out = cv2.VideoWriter(grayscale_video_path, fourcc, fps, (width, height), isColor=False)\n",
        "\n",
        "        while cap.isOpened():\n",
        "            ret, frame = cap.read()\n",
        "            if ret:\n",
        "                gray_frame = cv2.cvtColor(frame, cv2.COLOR_BGR2GRAY)\n",
        "                out.write(gray_frame)\n",
        "            else:\n",
        "                break\n",
        "\n",
        "        cap.release()\n",
        "        out.release()\n",
        "        print(f\"Grayscale video saved successfully to {grayscale_video_path}\")"
      ],
      "execution_count": 14,
      "outputs": [
        {
          "output_type": "stream",
          "name": "stdout",
          "text": [
            "Grayscale video saved successfully to grayscale_video.mp4\n"
          ]
        }
      ]
    }
  ]
}